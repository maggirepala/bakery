{
  "nbformat": 4,
  "nbformat_minor": 0,
  "metadata": {
    "colab": {
      "provenance": [],
      "authorship_tag": "ABX9TyOgaO1eKupfQm93xY2nEYTI",
      "include_colab_link": true
    },
    "kernelspec": {
      "name": "python3",
      "display_name": "Python 3"
    },
    "language_info": {
      "name": "python"
    }
  },
  "cells": [
    {
      "cell_type": "markdown",
      "metadata": {
        "id": "view-in-github",
        "colab_type": "text"
      },
      "source": [
        "<a href=\"https://colab.research.google.com/github/maggirepala/bakery/blob/main/miniproject.ipynb\" target=\"_parent\"><img src=\"https://colab.research.google.com/assets/colab-badge.svg\" alt=\"Open In Colab\"/></a>"
      ]
    },
    {
      "cell_type": "code",
      "execution_count": null,
      "metadata": {
        "id": "mOWEH_F2NGBg"
      },
      "outputs": [],
      "source": [
        "import pandas as pd"
      ]
    },
    {
      "cell_type": "code",
      "source": [
        "data = pd.read_csv('Churn_Modelling.csv')"
      ],
      "metadata": {
        "id": "zTwFK6fGU7gL"
      },
      "execution_count": null,
      "outputs": []
    },
    {
      "cell_type": "code",
      "source": [
        "import pandas as pd\n",
        "from imblearn.over_sampling import RandomOverSampler\n",
        "from collections import Counter\n",
        "\n",
        "df = pd.read_csv('/content/Churn_Modelling.csv')\n",
        "\n",
        "\n",
        "X = df.drop(columns=['Exited'])\n",
        "y = df['Exited']\n",
        "\n",
        "print(\"Class distribution before oversampling:\", Counter(y))\n",
        "\n",
        "oversampler = RandomOverSampler(sampling_strategy='minority', random_state=42)\n",
        "\n",
        "X_resampled, y_resampled = oversampler.fit_resample(X, y)\n",
        "\n",
        "print(\"Class distribution after oversampling:\", Counter(y_resampled))"
      ],
      "metadata": {
        "id": "3uZBMS05U7mB",
        "outputId": "54b952b9-3a55-4f90-ff65-87dc696ec5ac",
        "colab": {
          "base_uri": "https://localhost:8080/"
        }
      },
      "execution_count": null,
      "outputs": [
        {
          "output_type": "stream",
          "name": "stdout",
          "text": [
            "Class distribution before oversampling: Counter({0: 7963, 1: 2037})\n",
            "Class distribution after oversampling: Counter({1: 7963, 0: 7963})\n"
          ]
        }
      ]
    },
    {
      "cell_type": "code",
      "source": [
        "!pip install pymrmr\n"
      ],
      "metadata": {
        "id": "8yImyiDWU7ol",
        "outputId": "f04ac8ec-e832-4526-a816-bf876bbb1aab",
        "colab": {
          "base_uri": "https://localhost:8080/"
        }
      },
      "execution_count": null,
      "outputs": [
        {
          "output_type": "stream",
          "name": "stdout",
          "text": [
            "Requirement already satisfied: pymrmr in /usr/local/lib/python3.10/dist-packages (0.1.11)\n",
            "Requirement already satisfied: numpy>=1.19.5 in /usr/local/lib/python3.10/dist-packages (from pymrmr) (1.25.2)\n"
          ]
        }
      ]
    },
    {
      "cell_type": "code",
      "source": [
        "import pandas as pd\n",
        "from imblearn.over_sampling import RandomOverSampler\n",
        "from collections import Counter\n",
        "from sklearn.ensemble import RandomForestClassifier\n",
        "from sklearn.svm import SVC\n",
        "from sklearn.neighbors import KNeighborsClassifier\n",
        "from sklearn.tree import DecisionTreeClassifier\n",
        "from sklearn.model_selection import train_test_split\n",
        "from sklearn.metrics import accuracy_score, classification_report\n",
        "\n",
        "df = pd.read_csv('/content/Churn_Modelling.csv')\n",
        "gender_mapping = {'Female': 0, 'Male': 1}\n",
        "df['Gender'] = df['Gender'].map(gender_mapping)\n",
        "\n",
        "selected_features = ['NumOfProducts', 'IsActiveMember', 'Gender', 'Age', 'Balance', 'Tenure']\n",
        "X = df[selected_features]\n",
        "y = df['Exited']\n",
        "print(\"Class distribution before oversampling:\", Counter(y))\n",
        "\n",
        "oversampler = RandomOverSampler(sampling_strategy='minority', random_state=42)\n",
        "\n",
        "X_resampled, y_resampled = oversampler.fit_resample(X, y)\n",
        "\n",
        "print(\"Class distribution after oversampling:\", Counter(y_resampled))\n",
        "\n",
        "X_train, X_test, y_train, y_test = train_test_split(X_resampled, y_resampled, test_size=0.2, random_state=42)\n",
        "\n",
        "\n",
        "# Random Forest\n",
        "rf_classifier = RandomForestClassifier(n_estimators=100, random_state=42)\n",
        "rf_classifier.fit(X_train, y_train)\n",
        "y_pred_rf = rf_classifier.predict(X_test)\n",
        "accuracy_rf = accuracy_score(y_test, y_pred_rf)\n",
        "report_rf = classification_report(y_test, y_pred_rf)\n",
        "\n",
        "# Support Vector Machine (SVM)\n",
        "from sklearn.svm import SVC\n",
        "from sklearn.metrics import accuracy_score, classification_report\n",
        "\n",
        "svm_classifier = SVC(kernel='rbf', random_state=42)\n",
        "svm_classifier.fit(X_train, y_train)\n",
        "\n",
        "y_pred_svm = svm_classifier.predict(X_test)\n",
        "\n",
        "accuracy_svm = accuracy_score(y_test, y_pred_svm)\n",
        "\n",
        "report_svm = classification_report(y_test, y_pred_svm)\n",
        "\n",
        "print(\"Support Vector Machine (SVM) Results:\")\n",
        "print(f\"Accuracy: {accuracy_svm}\")\n",
        "print(\"Classification Report:\\n\", report_svm)\n",
        "\n",
        "\n",
        "# k-Nearest Neighbors (KNN)\n",
        "knn_classifier = KNeighborsClassifier(n_neighbors=5)\n",
        "knn_classifier.fit(X_train, y_train)\n",
        "y_pred_knn = knn_classifier.predict(X_test)\n",
        "accuracy_knn = accuracy_score(y_test, y_pred_knn)\n",
        "report_knn = classification_report(y_test, y_pred_knn)\n",
        "\n",
        "# Decision Tree (DT)\n",
        "dt_classifier = DecisionTreeClassifier(random_state=42)\n",
        "dt_classifier.fit(X_train, y_train)\n",
        "y_pred_dt = dt_classifier.predict(X_test)\n",
        "accuracy_dt = accuracy_score(y_test, y_pred_dt)\n",
        "report_dt = classification_report(y_test, y_pred_dt)\n",
        "\n",
        "# Print results\n",
        "print(\"Random Forest Results:\")\n",
        "print(f\"Accuracy: {accuracy_rf}\")\n",
        "print(\"Classification Report:\\n\", report_rf)\n",
        "\n",
        "print(\"Support Vector Machine (SVM) Results:\")\n",
        "print(f\"Accuracy: {accuracy_svm}\")\n",
        "print(\"Classification Report:\\n\", report_svm)\n",
        "\n",
        "print(\"k-Nearest Neighbors (KNN) Results:\")\n",
        "print(f\"Accuracy: {accuracy_knn}\")\n",
        "print(\"Classification Report:\\n\", report_knn)\n",
        "\n",
        "print(\"Decision Tree (DT) Results:\")\n",
        "print(f\"Accuracy: {accuracy_dt}\")\n",
        "print(\"Classification Report:\\n\", report_dt)\n"
      ],
      "metadata": {
        "id": "YGtxo-plWO8M",
        "outputId": "621c1088-35ca-4bf4-ca8c-5ffaf67c752b",
        "colab": {
          "base_uri": "https://localhost:8080/"
        }
      },
      "execution_count": null,
      "outputs": [
        {
          "output_type": "stream",
          "name": "stdout",
          "text": [
            "Class distribution before oversampling: Counter({0: 7963, 1: 2037})\n",
            "Class distribution after oversampling: Counter({1: 7963, 0: 7963})\n",
            "Support Vector Machine (SVM) Results:\n",
            "Accuracy: 0.5734463276836158\n",
            "Classification Report:\n",
            "               precision    recall  f1-score   support\n",
            "\n",
            "           0       0.64      0.39      0.49      1633\n",
            "           1       0.54      0.76      0.64      1553\n",
            "\n",
            "    accuracy                           0.57      3186\n",
            "   macro avg       0.59      0.58      0.56      3186\n",
            "weighted avg       0.59      0.57      0.56      3186\n",
            "\n",
            "Random Forest Results:\n",
            "Accuracy: 0.9221594475831764\n",
            "Classification Report:\n",
            "               precision    recall  f1-score   support\n",
            "\n",
            "           0       0.98      0.87      0.92      1633\n",
            "           1       0.88      0.98      0.92      1553\n",
            "\n",
            "    accuracy                           0.92      3186\n",
            "   macro avg       0.93      0.92      0.92      3186\n",
            "weighted avg       0.93      0.92      0.92      3186\n",
            "\n",
            "Support Vector Machine (SVM) Results:\n",
            "Accuracy: 0.5734463276836158\n",
            "Classification Report:\n",
            "               precision    recall  f1-score   support\n",
            "\n",
            "           0       0.64      0.39      0.49      1633\n",
            "           1       0.54      0.76      0.64      1553\n",
            "\n",
            "    accuracy                           0.57      3186\n",
            "   macro avg       0.59      0.58      0.56      3186\n",
            "weighted avg       0.59      0.57      0.56      3186\n",
            "\n",
            "k-Nearest Neighbors (KNN) Results:\n",
            "Accuracy: 0.7313245448838669\n",
            "Classification Report:\n",
            "               precision    recall  f1-score   support\n",
            "\n",
            "           0       0.80      0.63      0.71      1633\n",
            "           1       0.68      0.84      0.75      1553\n",
            "\n",
            "    accuracy                           0.73      3186\n",
            "   macro avg       0.74      0.73      0.73      3186\n",
            "weighted avg       0.74      0.73      0.73      3186\n",
            "\n",
            "Decision Tree (DT) Results:\n",
            "Accuracy: 0.90646578782172\n",
            "Classification Report:\n",
            "               precision    recall  f1-score   support\n",
            "\n",
            "           0       0.97      0.84      0.90      1633\n",
            "           1       0.85      0.97      0.91      1553\n",
            "\n",
            "    accuracy                           0.91      3186\n",
            "   macro avg       0.91      0.91      0.91      3186\n",
            "weighted avg       0.91      0.91      0.91      3186\n",
            "\n"
          ]
        }
      ]
    },
    {
      "cell_type": "code",
      "source": [
        "!pip install skrebate"
      ],
      "metadata": {
        "id": "J-ExhCmJU7r9",
        "outputId": "9f953770-df54-4482-87c6-38f3abf5ef21",
        "colab": {
          "base_uri": "https://localhost:8080/"
        }
      },
      "execution_count": null,
      "outputs": [
        {
          "output_type": "stream",
          "name": "stdout",
          "text": [
            "Requirement already satisfied: skrebate in /usr/local/lib/python3.10/dist-packages (0.62)\n",
            "Requirement already satisfied: numpy in /usr/local/lib/python3.10/dist-packages (from skrebate) (1.25.2)\n",
            "Requirement already satisfied: scipy in /usr/local/lib/python3.10/dist-packages (from skrebate) (1.11.4)\n",
            "Requirement already satisfied: scikit-learn in /usr/local/lib/python3.10/dist-packages (from skrebate) (1.2.2)\n",
            "Requirement already satisfied: joblib>=1.1.1 in /usr/local/lib/python3.10/dist-packages (from scikit-learn->skrebate) (1.4.2)\n",
            "Requirement already satisfied: threadpoolctl>=2.0.0 in /usr/local/lib/python3.10/dist-packages (from scikit-learn->skrebate) (3.5.0)\n"
          ]
        }
      ]
    },
    {
      "cell_type": "code",
      "source": [
        "!pip install skfeature-chappers"
      ],
      "metadata": {
        "id": "NTU8ynkPU7vA",
        "outputId": "40ad136f-b1d9-4a25-ac29-914a1155b5c6",
        "colab": {
          "base_uri": "https://localhost:8080/"
        }
      },
      "execution_count": null,
      "outputs": [
        {
          "output_type": "stream",
          "name": "stdout",
          "text": [
            "Requirement already satisfied: skfeature-chappers in /usr/local/lib/python3.10/dist-packages (1.1.0)\n",
            "Requirement already satisfied: scikit-learn in /usr/local/lib/python3.10/dist-packages (from skfeature-chappers) (1.2.2)\n",
            "Requirement already satisfied: pandas in /usr/local/lib/python3.10/dist-packages (from skfeature-chappers) (2.0.3)\n",
            "Requirement already satisfied: numpy in /usr/local/lib/python3.10/dist-packages (from skfeature-chappers) (1.25.2)\n",
            "Requirement already satisfied: python-dateutil>=2.8.2 in /usr/local/lib/python3.10/dist-packages (from pandas->skfeature-chappers) (2.8.2)\n",
            "Requirement already satisfied: pytz>=2020.1 in /usr/local/lib/python3.10/dist-packages (from pandas->skfeature-chappers) (2023.4)\n",
            "Requirement already satisfied: tzdata>=2022.1 in /usr/local/lib/python3.10/dist-packages (from pandas->skfeature-chappers) (2024.1)\n",
            "Requirement already satisfied: scipy>=1.3.2 in /usr/local/lib/python3.10/dist-packages (from scikit-learn->skfeature-chappers) (1.11.4)\n",
            "Requirement already satisfied: joblib>=1.1.1 in /usr/local/lib/python3.10/dist-packages (from scikit-learn->skfeature-chappers) (1.4.2)\n",
            "Requirement already satisfied: threadpoolctl>=2.0.0 in /usr/local/lib/python3.10/dist-packages (from scikit-learn->skfeature-chappers) (3.5.0)\n",
            "Requirement already satisfied: six>=1.5 in /usr/local/lib/python3.10/dist-packages (from python-dateutil>=2.8.2->pandas->skfeature-chappers) (1.16.0)\n"
          ]
        }
      ]
    },
    {
      "cell_type": "code",
      "source": [
        "import pandas as pd\n",
        "from imblearn.over_sampling import RandomOverSampler\n",
        "from collections import Counter\n",
        "from sklearn.ensemble import RandomForestClassifier\n",
        "from sklearn.svm import SVC\n",
        "from sklearn.neighbors import KNeighborsClassifier\n",
        "from sklearn.tree import DecisionTreeClassifier\n",
        "from skfeature.function.similarity_based import reliefF\n",
        "from sklearn.model_selection import train_test_split\n",
        "from sklearn.metrics import accuracy_score, classification_report\n",
        "\n",
        "df = pd.read_csv('/content/Churn_Modelling.csv')\n",
        "gender_mapping = {'Female': 0, 'Male': 1}\n",
        "df['Gender'] = df['Gender'].map(gender_mapping)\n",
        "\n",
        "\n",
        "selected_features = ['NumOfProducts', 'IsActiveMember', 'Gender', 'Age', 'Balance', 'Tenure']\n",
        "X = df[selected_features]\n",
        "y = df['Exited']\n",
        "\n",
        "print(\"Class distribution before oversampling:\", Counter(y))\n",
        "\n",
        "oversampler = RandomOverSampler(sampling_strategy='minority', random_state=42)\n",
        "\n",
        "X_resampled, y_resampled = oversampler.fit_resample(X, y)\n",
        "\n",
        "print(\"Class distribution after oversampling:\", Counter(y_resampled))\n",
        "\n",
        "X_train, X_test, y_train, y_test = train_test_split(X_resampled, y_resampled, test_size=0.2, random_state=42)\n",
        "\n",
        "\n",
        "# Random Forest\n",
        "rf_classifier = RandomForestClassifier(n_estimators=100, random_state=42)\n",
        "rf_classifier.fit(X_train, y_train)\n",
        "y_pred_rf = rf_classifier.predict(X_test)\n",
        "accuracy_rf = accuracy_score(y_test, y_pred_rf)\n",
        "report_rf = classification_report(y_test, y_pred_rf)\n",
        "\n",
        "# Support Vector Machine (SVM)\n",
        "from sklearn.svm import SVC\n",
        "from sklearn.metrics import accuracy_score, classification_report\n",
        "\n",
        "svm_classifier = SVC(kernel='rbf', random_state=42)\n",
        "\n",
        "svm_classifier.fit(X_train, y_train)\n",
        "\n",
        "y_pred_svm = svm_classifier.predict(X_test)\n",
        "\n",
        "accuracy_svm = accuracy_score(y_test, y_pred_svm)\n",
        "\n",
        "report_svm = classification_report(y_test, y_pred_svm)\n",
        "\n",
        "# k-Nearest Neighbors (KNN)\n",
        "knn_classifier = KNeighborsClassifier(n_neighbors=5)\n",
        "knn_classifier.fit(X_train, y_train)\n",
        "y_pred_knn = knn_classifier.predict(X_test)\n",
        "accuracy_knn = accuracy_score(y_test, y_pred_knn)\n",
        "report_knn = classification_report(y_test, y_pred_knn)\n",
        "\n",
        "# Decision Tree (DT)\n",
        "dt_classifier = DecisionTreeClassifier(random_state=42)\n",
        "dt_classifier.fit(X_train, y_train)\n",
        "y_pred_dt = dt_classifier.predict(X_test)\n",
        "accuracy_dt = accuracy_score(y_test, y_pred_dt)\n",
        "report_dt = classification_report(y_test, y_pred_dt)\n",
        "\n",
        "# Feature selection using ReliefF\n",
        "score = reliefF.reliefF(X_resampled.values, y_resampled)\n",
        "\n",
        "# Print feature importances\n",
        "print(\"Feature Importances using ReliefF:\")\n",
        "for feature, importance in zip(selected_features, score):\n",
        "    print(f\"{feature}: {importance}\")\n",
        "\n",
        "# Print results\n",
        "print(\"Random Forest Results:\")\n",
        "print(f\"Accuracy: {accuracy_rf}\")\n",
        "print(\"Classification Report:\\n\", report_rf)\n",
        "\n",
        "print(\"Support Vector Machine (SVM) Results:\")\n",
        "print(f\"Accuracy: {accuracy_svm}\")\n",
        "print(\"Classification Report:\\n\", report_svm)\n",
        "\n",
        "print(\"k-Nearest Neighbors (KNN) Results:\")\n",
        "print(f\"Accuracy: {accuracy_knn}\")\n",
        "print(\"Classification Report:\\n\", report_knn)\n",
        "\n",
        "print(\"Decision Tree (DT) Results:\")\n",
        "print(f\"Accuracy: {accuracy_dt}\")\n",
        "print(\"Classification Report:\\n\", report_dt)\n"
      ],
      "metadata": {
        "id": "2Z4pW3EXU7yC",
        "outputId": "89be3b5a-4d83-4974-d161-29d59bafc37e",
        "colab": {
          "base_uri": "https://localhost:8080/"
        }
      },
      "execution_count": null,
      "outputs": [
        {
          "output_type": "stream",
          "name": "stdout",
          "text": [
            "Class distribution before oversampling: Counter({0: 7963, 1: 2037})\n",
            "Class distribution after oversampling: Counter({1: 7963, 0: 7963})\n",
            "Feature Importances using ReliefF:\n",
            "NumOfProducts: 1\n",
            "IsActiveMember: 2\n",
            "Gender: 0\n",
            "Age: 5\n",
            "Balance: 4\n",
            "Tenure: 3\n",
            "Random Forest Results:\n",
            "Accuracy: 0.9221594475831764\n",
            "Classification Report:\n",
            "               precision    recall  f1-score   support\n",
            "\n",
            "           0       0.98      0.87      0.92      1633\n",
            "           1       0.88      0.98      0.92      1553\n",
            "\n",
            "    accuracy                           0.92      3186\n",
            "   macro avg       0.93      0.92      0.92      3186\n",
            "weighted avg       0.93      0.92      0.92      3186\n",
            "\n",
            "Support Vector Machine (SVM) Results:\n",
            "Accuracy: 0.5734463276836158\n",
            "Classification Report:\n",
            "               precision    recall  f1-score   support\n",
            "\n",
            "           0       0.64      0.39      0.49      1633\n",
            "           1       0.54      0.76      0.64      1553\n",
            "\n",
            "    accuracy                           0.57      3186\n",
            "   macro avg       0.59      0.58      0.56      3186\n",
            "weighted avg       0.59      0.57      0.56      3186\n",
            "\n",
            "k-Nearest Neighbors (KNN) Results:\n",
            "Accuracy: 0.7313245448838669\n",
            "Classification Report:\n",
            "               precision    recall  f1-score   support\n",
            "\n",
            "           0       0.80      0.63      0.71      1633\n",
            "           1       0.68      0.84      0.75      1553\n",
            "\n",
            "    accuracy                           0.73      3186\n",
            "   macro avg       0.74      0.73      0.73      3186\n",
            "weighted avg       0.74      0.73      0.73      3186\n",
            "\n",
            "Decision Tree (DT) Results:\n",
            "Accuracy: 0.90646578782172\n",
            "Classification Report:\n",
            "               precision    recall  f1-score   support\n",
            "\n",
            "           0       0.97      0.84      0.90      1633\n",
            "           1       0.85      0.97      0.91      1553\n",
            "\n",
            "    accuracy                           0.91      3186\n",
            "   macro avg       0.91      0.91      0.91      3186\n",
            "weighted avg       0.91      0.91      0.91      3186\n",
            "\n"
          ]
        }
      ]
    },
    {
      "cell_type": "code",
      "source": [],
      "metadata": {
        "id": "XTiCI2WhU71U"
      },
      "execution_count": null,
      "outputs": []
    },
    {
      "cell_type": "code",
      "source": [],
      "metadata": {
        "id": "3BYKZTYmU74a"
      },
      "execution_count": null,
      "outputs": []
    },
    {
      "cell_type": "code",
      "source": [],
      "metadata": {
        "id": "z4HUMGYLU77x"
      },
      "execution_count": null,
      "outputs": []
    }
  ]
}